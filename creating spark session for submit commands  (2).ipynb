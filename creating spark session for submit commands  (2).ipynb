{
 "cells": [
  {
   "cell_type": "code",
   "execution_count": 1,
   "metadata": {},
   "outputs": [
    {
     "ename": "NameError",
     "evalue": "name 'np' is not defined",
     "output_type": "error",
     "traceback": [
      "\u001b[1;31m---------------------------------------------------------------------------\u001b[0m",
      "\u001b[1;31mNameError\u001b[0m                                 Traceback (most recent call last)",
      "\u001b[1;32m<ipython-input-1-0d50bca85391>\u001b[0m in \u001b[0;36m<module>\u001b[1;34m\u001b[0m\n\u001b[1;32m----> 1\u001b[1;33m \u001b[1;32mimport\u001b[0m \u001b[0mpyspark\u001b[0m \u001b[1;32mas\u001b[0m \u001b[0mspark\u001b[0m\u001b[1;33m\u001b[0m\u001b[1;33m\u001b[0m\u001b[0m\n\u001b[0m\u001b[0;32m      2\u001b[0m \u001b[1;32mfrom\u001b[0m \u001b[0mpyspark\u001b[0m\u001b[1;33m.\u001b[0m\u001b[0msql\u001b[0m \u001b[1;32mimport\u001b[0m \u001b[0mSparkSession\u001b[0m\u001b[1;33m\u001b[0m\u001b[1;33m\u001b[0m\u001b[0m\n\u001b[0;32m      3\u001b[0m \u001b[1;33m\u001b[0m\u001b[0m\n\u001b[0;32m      4\u001b[0m \u001b[0mspark\u001b[0m \u001b[1;33m=\u001b[0m \u001b[0mSparkSession\u001b[0m\u001b[0;31m \u001b[0m\u001b[0;31m\\\u001b[0m\u001b[1;33m\u001b[0m\u001b[1;33m\u001b[0m\u001b[0m\n\u001b[0;32m      5\u001b[0m     \u001b[1;33m.\u001b[0m\u001b[0mbuilder\u001b[0m\u001b[0;31m \u001b[0m\u001b[0;31m\\\u001b[0m\u001b[1;33m\u001b[0m\u001b[1;33m\u001b[0m\u001b[0m\n",
      "\u001b[1;32mC:\\ProgramData\\Anaconda3\\lib\\site-packages\\pyspark\\__init__.py\u001b[0m in \u001b[0;36m<module>\u001b[1;34m\u001b[0m\n\u001b[0;32m     49\u001b[0m \u001b[1;33m\u001b[0m\u001b[0m\n\u001b[0;32m     50\u001b[0m \u001b[1;32mfrom\u001b[0m \u001b[0mpyspark\u001b[0m\u001b[1;33m.\u001b[0m\u001b[0mconf\u001b[0m \u001b[1;32mimport\u001b[0m \u001b[0mSparkConf\u001b[0m\u001b[1;33m\u001b[0m\u001b[1;33m\u001b[0m\u001b[0m\n\u001b[1;32m---> 51\u001b[1;33m \u001b[1;32mfrom\u001b[0m \u001b[0mpyspark\u001b[0m\u001b[1;33m.\u001b[0m\u001b[0mcontext\u001b[0m \u001b[1;32mimport\u001b[0m \u001b[0mSparkContext\u001b[0m\u001b[1;33m\u001b[0m\u001b[1;33m\u001b[0m\u001b[0m\n\u001b[0m\u001b[0;32m     52\u001b[0m \u001b[1;32mfrom\u001b[0m \u001b[0mpyspark\u001b[0m\u001b[1;33m.\u001b[0m\u001b[0mrdd\u001b[0m \u001b[1;32mimport\u001b[0m \u001b[0mRDD\u001b[0m\u001b[1;33m,\u001b[0m \u001b[0mRDDBarrier\u001b[0m\u001b[1;33m\u001b[0m\u001b[1;33m\u001b[0m\u001b[0m\n\u001b[0;32m     53\u001b[0m \u001b[1;32mfrom\u001b[0m \u001b[0mpyspark\u001b[0m\u001b[1;33m.\u001b[0m\u001b[0mfiles\u001b[0m \u001b[1;32mimport\u001b[0m \u001b[0mSparkFiles\u001b[0m\u001b[1;33m\u001b[0m\u001b[1;33m\u001b[0m\u001b[0m\n",
      "\u001b[1;32mC:\\ProgramData\\Anaconda3\\lib\\site-packages\\pyspark\\context.py\u001b[0m in \u001b[0;36m<module>\u001b[1;34m\u001b[0m\n\u001b[0;32m     38\u001b[0m     \u001b[0mPairDeserializer\u001b[0m\u001b[1;33m,\u001b[0m \u001b[0mAutoBatchedSerializer\u001b[0m\u001b[1;33m,\u001b[0m \u001b[0mNoOpSerializer\u001b[0m\u001b[1;33m,\u001b[0m \u001b[0mChunkedStream\u001b[0m\u001b[1;33m\u001b[0m\u001b[1;33m\u001b[0m\u001b[0m\n\u001b[0;32m     39\u001b[0m \u001b[1;32mfrom\u001b[0m \u001b[0mpyspark\u001b[0m\u001b[1;33m.\u001b[0m\u001b[0mstoragelevel\u001b[0m \u001b[1;32mimport\u001b[0m \u001b[0mStorageLevel\u001b[0m\u001b[1;33m\u001b[0m\u001b[1;33m\u001b[0m\u001b[0m\n\u001b[1;32m---> 40\u001b[1;33m \u001b[1;32mfrom\u001b[0m \u001b[0mpyspark\u001b[0m\u001b[1;33m.\u001b[0m\u001b[0mrdd\u001b[0m \u001b[1;32mimport\u001b[0m \u001b[0mRDD\u001b[0m\u001b[1;33m,\u001b[0m \u001b[0m_load_from_socket\u001b[0m\u001b[1;33m,\u001b[0m \u001b[0mignore_unicode_prefix\u001b[0m\u001b[1;33m\u001b[0m\u001b[1;33m\u001b[0m\u001b[0m\n\u001b[0m\u001b[0;32m     41\u001b[0m \u001b[1;32mfrom\u001b[0m \u001b[0mpyspark\u001b[0m\u001b[1;33m.\u001b[0m\u001b[0mtraceback_utils\u001b[0m \u001b[1;32mimport\u001b[0m \u001b[0mCallSite\u001b[0m\u001b[1;33m,\u001b[0m \u001b[0mfirst_spark_call\u001b[0m\u001b[1;33m\u001b[0m\u001b[1;33m\u001b[0m\u001b[0m\n\u001b[0;32m     42\u001b[0m \u001b[1;32mfrom\u001b[0m \u001b[0mpyspark\u001b[0m\u001b[1;33m.\u001b[0m\u001b[0mstatus\u001b[0m \u001b[1;32mimport\u001b[0m \u001b[0mStatusTracker\u001b[0m\u001b[1;33m\u001b[0m\u001b[1;33m\u001b[0m\u001b[0m\n",
      "\u001b[1;32mC:\\ProgramData\\Anaconda3\\lib\\site-packages\\pyspark\\rdd.py\u001b[0m in \u001b[0;36m<module>\u001b[1;34m\u001b[0m\n\u001b[0;32m     47\u001b[0m \u001b[1;32mfrom\u001b[0m \u001b[0mpyspark\u001b[0m\u001b[1;33m.\u001b[0m\u001b[0mjoin\u001b[0m \u001b[1;32mimport\u001b[0m \u001b[0mpython_join\u001b[0m\u001b[1;33m,\u001b[0m \u001b[0mpython_left_outer_join\u001b[0m\u001b[1;33m,\u001b[0m\u001b[0;31m \u001b[0m\u001b[0;31m\\\u001b[0m\u001b[1;33m\u001b[0m\u001b[1;33m\u001b[0m\u001b[0m\n\u001b[0;32m     48\u001b[0m     \u001b[0mpython_right_outer_join\u001b[0m\u001b[1;33m,\u001b[0m \u001b[0mpython_full_outer_join\u001b[0m\u001b[1;33m,\u001b[0m \u001b[0mpython_cogroup\u001b[0m\u001b[1;33m\u001b[0m\u001b[1;33m\u001b[0m\u001b[0m\n\u001b[1;32m---> 49\u001b[1;33m \u001b[1;32mfrom\u001b[0m \u001b[0mpyspark\u001b[0m\u001b[1;33m.\u001b[0m\u001b[0mstatcounter\u001b[0m \u001b[1;32mimport\u001b[0m \u001b[0mStatCounter\u001b[0m\u001b[1;33m\u001b[0m\u001b[1;33m\u001b[0m\u001b[0m\n\u001b[0m\u001b[0;32m     50\u001b[0m \u001b[1;32mfrom\u001b[0m \u001b[0mpyspark\u001b[0m\u001b[1;33m.\u001b[0m\u001b[0mrddsampler\u001b[0m \u001b[1;32mimport\u001b[0m \u001b[0mRDDSampler\u001b[0m\u001b[1;33m,\u001b[0m \u001b[0mRDDRangeSampler\u001b[0m\u001b[1;33m,\u001b[0m \u001b[0mRDDStratifiedSampler\u001b[0m\u001b[1;33m\u001b[0m\u001b[1;33m\u001b[0m\u001b[0m\n\u001b[0;32m     51\u001b[0m \u001b[1;32mfrom\u001b[0m \u001b[0mpyspark\u001b[0m\u001b[1;33m.\u001b[0m\u001b[0mstoragelevel\u001b[0m \u001b[1;32mimport\u001b[0m \u001b[0mStorageLevel\u001b[0m\u001b[1;33m\u001b[0m\u001b[1;33m\u001b[0m\u001b[0m\n",
      "\u001b[1;32mC:\\ProgramData\\Anaconda3\\lib\\site-packages\\pyspark\\statcounter.py\u001b[0m in \u001b[0;36m<module>\u001b[1;34m\u001b[0m\n\u001b[0;32m     22\u001b[0m \u001b[1;33m\u001b[0m\u001b[0m\n\u001b[0;32m     23\u001b[0m \u001b[1;32mtry\u001b[0m\u001b[1;33m:\u001b[0m\u001b[1;33m\u001b[0m\u001b[1;33m\u001b[0m\u001b[0m\n\u001b[1;32m---> 24\u001b[1;33m     \u001b[1;32mfrom\u001b[0m \u001b[0mnumpy\u001b[0m \u001b[1;32mimport\u001b[0m \u001b[0mmaximum\u001b[0m\u001b[1;33m,\u001b[0m \u001b[0mminimum\u001b[0m\u001b[1;33m,\u001b[0m \u001b[0msqrt\u001b[0m\u001b[1;33m\u001b[0m\u001b[1;33m\u001b[0m\u001b[0m\n\u001b[0m\u001b[0;32m     25\u001b[0m \u001b[1;32mexcept\u001b[0m \u001b[0mImportError\u001b[0m\u001b[1;33m:\u001b[0m\u001b[1;33m\u001b[0m\u001b[1;33m\u001b[0m\u001b[0m\n\u001b[0;32m     26\u001b[0m     \u001b[0mmaximum\u001b[0m \u001b[1;33m=\u001b[0m \u001b[0mmax\u001b[0m\u001b[1;33m\u001b[0m\u001b[1;33m\u001b[0m\u001b[0m\n",
      "\u001b[1;32m~\\Desktop\\SuccessfulProjects\\numpy.py\u001b[0m in \u001b[0;36m<module>\u001b[1;34m\u001b[0m\n\u001b[0;32m      5\u001b[0m \u001b[0mheight\u001b[0m\u001b[1;33m=\u001b[0m\u001b[1;33m[\u001b[0m\u001b[1;36m12\u001b[0m\u001b[1;33m,\u001b[0m\u001b[1;36m14\u001b[0m\u001b[1;33m,\u001b[0m\u001b[1;36m15\u001b[0m\u001b[1;33m,\u001b[0m\u001b[1;36m16\u001b[0m\u001b[1;33m,\u001b[0m\u001b[1;36m17\u001b[0m\u001b[1;33m,\u001b[0m\u001b[1;36m12\u001b[0m\u001b[1;33m,\u001b[0m\u001b[1;36m13\u001b[0m\u001b[1;33m,\u001b[0m\u001b[1;36m15\u001b[0m\u001b[1;33m,\u001b[0m\u001b[1;36m19\u001b[0m\u001b[1;33m,\u001b[0m\u001b[1;36m20\u001b[0m\u001b[1;33m]\u001b[0m\u001b[1;33m\u001b[0m\u001b[1;33m\u001b[0m\u001b[0m\n\u001b[0;32m      6\u001b[0m \u001b[0mweight\u001b[0m\u001b[1;33m=\u001b[0m\u001b[1;33m[\u001b[0m\u001b[1;36m60\u001b[0m\u001b[1;33m,\u001b[0m\u001b[1;36m50\u001b[0m\u001b[1;33m,\u001b[0m\u001b[1;36m40\u001b[0m\u001b[1;33m,\u001b[0m\u001b[1;36m50\u001b[0m\u001b[1;33m,\u001b[0m\u001b[1;36m47\u001b[0m\u001b[1;33m,\u001b[0m\u001b[1;36m58\u001b[0m\u001b[1;33m,\u001b[0m\u001b[1;36m70\u001b[0m\u001b[1;33m,\u001b[0m\u001b[1;36m60\u001b[0m\u001b[1;33m,\u001b[0m\u001b[1;36m50\u001b[0m\u001b[1;33m,\u001b[0m\u001b[1;36m80\u001b[0m\u001b[1;33m]\u001b[0m\u001b[1;33m\u001b[0m\u001b[1;33m\u001b[0m\u001b[0m\n\u001b[1;32m----> 7\u001b[1;33m \u001b[0mnp\u001b[0m\u001b[1;33m.\u001b[0m\u001b[0mmean\u001b[0m\u001b[1;33m(\u001b[0m\u001b[0mnpheight\u001b[0m\u001b[1;33m)\u001b[0m\u001b[1;33m\u001b[0m\u001b[1;33m\u001b[0m\u001b[0m\n\u001b[0m\u001b[0;32m      8\u001b[0m \u001b[0mnp\u001b[0m\u001b[1;33m.\u001b[0m\u001b[0mmean\u001b[0m\u001b[1;33m(\u001b[0m\u001b[0mnpweight\u001b[0m\u001b[1;33m)\u001b[0m\u001b[1;33m\u001b[0m\u001b[1;33m\u001b[0m\u001b[0m\n\u001b[0;32m      9\u001b[0m \u001b[1;32mimport\u001b[0m \u001b[0mnumpy\u001b[0m \u001b[1;32mas\u001b[0m \u001b[0mnp\u001b[0m\u001b[1;33m\u001b[0m\u001b[1;33m\u001b[0m\u001b[0m\n",
      "\u001b[1;31mNameError\u001b[0m: name 'np' is not defined"
     ]
    }
   ],
   "source": [
    "import pyspark as spark\n",
    "from pyspark.sql import SparkSession\n",
    "    \n",
    "spark = SparkSession \\\n",
    "    .builder \\\n",
    "    .appName(\"Python Spark SQL basic example\") \\\n",
    "    .config(\"spark.some.config.option\", \"some-value\") \\\n",
    "    .getOrCreate()"
   ]
  },
  {
   "cell_type": "code",
   "execution_count": 11,
   "metadata": {},
   "outputs": [],
   "source": [
    "import pyspark as spark\n",
    "from pyspark.sql import SparkSession\n",
    "    \n",
    "spark = SparkSession \\\n",
    "    .builder \\\n",
    "    .appName(\"Python Spark SQL basic example\") \\\n",
    "    .config(\"spark.some.config.option\", \"some-value\") \\\n",
    "    .getOrCreate()"
   ]
  },
  {
   "cell_type": "code",
   "execution_count": 13,
   "metadata": {},
   "outputs": [],
   "source": [
    "df=spark.read\\\n",
    "    .options(header=True, inferSchema=True)\\\n",
    "    .csv('gmb.csv')"
   ]
  },
  {
   "cell_type": "code",
   "execution_count": 14,
   "metadata": {},
   "outputs": [],
   "source": [
    "from pyspark import SparkContext \n",
    "sc=SparkContext.getOrCreate() ####connect to spark"
   ]
  },
  {
   "cell_type": "code",
   "execution_count": 18,
   "metadata": {},
   "outputs": [
    {
     "name": "stdout",
     "output_type": "stream",
     "text": [
      "+-------------+------------+-----------------+-----------------+---------------------+-------------------+--------------------+-----------------------+------------------+------------------+---------------------+-------------------+--------------------+-----------------------+------------------+------------------+---------------------+-------------------+--------------------+-----------------------+------------------+------------------+---------------------+-------------------+--------------------+-----------------------+-------------------+-------------------+----------------------+--------------------+---------------------+------------------------+------------------+------------------+---------------------+-------------------+--------------------+-----------------------+-------------------+-------------------+----------------------+--------------------+---------------------+------------------------+------------------+------------------+---------------------+-------------------+--------------------+-----------------------+------------------+------------------+---------------------+-------------------+--------------------+-----------------------+----+----+----+----+----+\n",
      "|Before/After2|Before/After|Direct searche_BA|Website action_BA|Directions actions_BA|GMB call actions_BA|Owner photo views_BA|Customer photo views_BA|Direct searches_OB|Website actions_OB|Directions actions_OB|GMB call actions_OB|Owner photo views_OB|Customer photo views_OB|Direct searches_OT|Website actions_OT|Directions actions_OT|GMB call actions_OT|Owner photo views_OT|Customer photo views_OT|Direct searches_NT|Website actions_NT|Directions actions_NT|GMB call actions_NT|Owner photo views_NT|Customer photo views_NT|Direct searches_Flp|Website actions_Flp|Directions actions_Flp|GMB call actions_Flp|Owner photo views_Flp|Customer photo views_Flp|Direct searches_MS|Website actions_MS|Directions actions_MS|GMB call actions_MS|Owner photo views_MS|Customer photo views_MS|Direct searches_Crm|Website actions_Crm|Directions actions_Crm|GMB call actions_Crm|Owner photo views_Crm|Customer photo views_Crm|Direct searches_Ti|Website actions_Ti|Directions actions_Ti|GMB call actions_Ti|Owner photo views_Ti|Customer photo views_Ti|Direct searches_JC|Website actions_JC|Directions actions_JC|GMB call actions_JC|Owner photo views_JC|Customer photo views_JC|_c56|_c57|_c58|_c59|_c60|\n",
      "+-------------+------------+-----------------+-----------------+---------------------+-------------------+--------------------+-----------------------+------------------+------------------+---------------------+-------------------+--------------------+-----------------------+------------------+------------------+---------------------+-------------------+--------------------+-----------------------+------------------+------------------+---------------------+-------------------+--------------------+-----------------------+-------------------+-------------------+----------------------+--------------------+---------------------+------------------------+------------------+------------------+---------------------+-------------------+--------------------+-----------------------+-------------------+-------------------+----------------------+--------------------+---------------------+------------------------+------------------+------------------+---------------------+-------------------+--------------------+-----------------------+------------------+------------------+---------------------+-------------------+--------------------+-----------------------+----+----+----+----+----+\n",
      "|       Before|           1|              119|               18|                   39|                 18|                1051|                   1718|                83|                15|                    6|                  3|                   0|                    682|                22|                 2|                    5|                  5|                  37|                      2|                71|                 0|                   11|                  6|                 689|                    461|                 39|                 12|                     5|                   8|                    0|                     459|                26|                 0|                    3|                  0|                 128|                    130|                333|                 30|                    36|                  11|                    0|                    1042|                47|                16|                   21|                  9|                 548|                    931|                25|                 4|                    6|                  5|                null|                   null|null|null|null|null|null|\n",
      "+-------------+------------+-----------------+-----------------+---------------------+-------------------+--------------------+-----------------------+------------------+------------------+---------------------+-------------------+--------------------+-----------------------+------------------+------------------+---------------------+-------------------+--------------------+-----------------------+------------------+------------------+---------------------+-------------------+--------------------+-----------------------+-------------------+-------------------+----------------------+--------------------+---------------------+------------------------+------------------+------------------+---------------------+-------------------+--------------------+-----------------------+-------------------+-------------------+----------------------+--------------------+---------------------+------------------------+------------------+------------------+---------------------+-------------------+--------------------+-----------------------+------------------+------------------+---------------------+-------------------+--------------------+-----------------------+----+----+----+----+----+\n",
      "only showing top 1 row\n",
      "\n"
     ]
    }
   ],
   "source": [
    "df.show(1)"
   ]
  },
  {
   "cell_type": "code",
   "execution_count": 19,
   "metadata": {},
   "outputs": [],
   "source": [
    "#import matplotlib.pyplot as plt\n",
    "import pandas as pd"
   ]
  },
  {
   "cell_type": "code",
   "execution_count": 20,
   "metadata": {},
   "outputs": [],
   "source": [
    " #df.select(\"V1\").show()"
   ]
  },
  {
   "cell_type": "code",
   "execution_count": null,
   "metadata": {},
   "outputs": [],
   "source": []
  },
  {
   "cell_type": "code",
   "execution_count": 21,
   "metadata": {},
   "outputs": [
    {
     "name": "stdout",
     "output_type": "stream",
     "text": [
      "root\n",
      " |-- Before/After2: string (nullable = true)\n",
      " |-- Before/After: integer (nullable = true)\n",
      " |-- Direct searche_BA: integer (nullable = true)\n",
      " |-- Website action_BA: integer (nullable = true)\n",
      " |-- Directions actions_BA: integer (nullable = true)\n",
      " |-- GMB call actions_BA: integer (nullable = true)\n",
      " |-- Owner photo views_BA: integer (nullable = true)\n",
      " |-- Customer photo views_BA: integer (nullable = true)\n",
      " |-- Direct searches_OB: integer (nullable = true)\n",
      " |-- Website actions_OB: integer (nullable = true)\n",
      " |-- Directions actions_OB: integer (nullable = true)\n",
      " |-- GMB call actions_OB: integer (nullable = true)\n",
      " |-- Owner photo views_OB: integer (nullable = true)\n",
      " |-- Customer photo views_OB: integer (nullable = true)\n",
      " |-- Direct searches_OT: integer (nullable = true)\n",
      " |-- Website actions_OT: integer (nullable = true)\n",
      " |-- Directions actions_OT: integer (nullable = true)\n",
      " |-- GMB call actions_OT: integer (nullable = true)\n",
      " |-- Owner photo views_OT: integer (nullable = true)\n",
      " |-- Customer photo views_OT: integer (nullable = true)\n",
      " |-- Direct searches_NT: integer (nullable = true)\n",
      " |-- Website actions_NT: integer (nullable = true)\n",
      " |-- Directions actions_NT: integer (nullable = true)\n",
      " |-- GMB call actions_NT: integer (nullable = true)\n",
      " |-- Owner photo views_NT: integer (nullable = true)\n",
      " |-- Customer photo views_NT: integer (nullable = true)\n",
      " |-- Direct searches_Flp: integer (nullable = true)\n",
      " |-- Website actions_Flp: integer (nullable = true)\n",
      " |-- Directions actions_Flp: integer (nullable = true)\n",
      " |-- GMB call actions_Flp: integer (nullable = true)\n",
      " |-- Owner photo views_Flp: integer (nullable = true)\n",
      " |-- Customer photo views_Flp: integer (nullable = true)\n",
      " |-- Direct searches_MS: integer (nullable = true)\n",
      " |-- Website actions_MS: integer (nullable = true)\n",
      " |-- Directions actions_MS: integer (nullable = true)\n",
      " |-- GMB call actions_MS: integer (nullable = true)\n",
      " |-- Owner photo views_MS: string (nullable = true)\n",
      " |-- Customer photo views_MS: integer (nullable = true)\n",
      " |-- Direct searches_Crm: integer (nullable = true)\n",
      " |-- Website actions_Crm: integer (nullable = true)\n",
      " |-- Directions actions_Crm: integer (nullable = true)\n",
      " |-- GMB call actions_Crm: integer (nullable = true)\n",
      " |-- Owner photo views_Crm: integer (nullable = true)\n",
      " |-- Customer photo views_Crm: integer (nullable = true)\n",
      " |-- Direct searches_Ti: integer (nullable = true)\n",
      " |-- Website actions_Ti: integer (nullable = true)\n",
      " |-- Directions actions_Ti: integer (nullable = true)\n",
      " |-- GMB call actions_Ti: integer (nullable = true)\n",
      " |-- Owner photo views_Ti: integer (nullable = true)\n",
      " |-- Customer photo views_Ti: integer (nullable = true)\n",
      " |-- Direct searches_JC: integer (nullable = true)\n",
      " |-- Website actions_JC: integer (nullable = true)\n",
      " |-- Directions actions_JC: integer (nullable = true)\n",
      " |-- GMB call actions_JC: integer (nullable = true)\n",
      " |-- Owner photo views_JC: integer (nullable = true)\n",
      " |-- Customer photo views_JC: integer (nullable = true)\n",
      " |-- _c56: string (nullable = true)\n",
      " |-- _c57: string (nullable = true)\n",
      " |-- _c58: string (nullable = true)\n",
      " |-- _c59: string (nullable = true)\n",
      " |-- _c60: string (nullable = true)\n",
      "\n"
     ]
    }
   ],
   "source": [
    "# spark, df are from the previous example\n",
    "# Print the schema in a tree format\n",
    "df.printSchema()"
   ]
  },
  {
   "cell_type": "code",
   "execution_count": 22,
   "metadata": {},
   "outputs": [
    {
     "name": "stdout",
     "output_type": "stream",
     "text": [
      "+------------------+\n",
      "|Website actions_JC|\n",
      "+------------------+\n",
      "|                 4|\n",
      "|                13|\n",
      "|                10|\n",
      "|                 6|\n",
      "|                10|\n",
      "|                10|\n",
      "|                 5|\n",
      "|                19|\n",
      "|                13|\n",
      "|                23|\n",
      "|                 6|\n",
      "|                12|\n",
      "|                10|\n",
      "|                 8|\n",
      "|                14|\n",
      "|                13|\n",
      "|                13|\n",
      "|                 9|\n",
      "|                13|\n",
      "|                12|\n",
      "+------------------+\n",
      "only showing top 20 rows\n",
      "\n"
     ]
    }
   ],
   "source": [
    "# Select only the \"name\" column\n",
    "df.select(\"Open\").show()"
   ]
  },
  {
   "cell_type": "code",
   "execution_count": 24,
   "metadata": {},
   "outputs": [
    {
     "ename": "SyntaxError",
     "evalue": "invalid syntax (<ipython-input-24-ba4514fac085>, line 1)",
     "output_type": "error",
     "traceback": [
      "\u001b[1;36m  File \u001b[1;32m\"<ipython-input-24-ba4514fac085>\"\u001b[1;36m, line \u001b[1;32m1\u001b[0m\n\u001b[1;33m    df.filter(df.GMB call actions_OT >200).show()\u001b[0m\n\u001b[1;37m                        ^\u001b[0m\n\u001b[1;31mSyntaxError\u001b[0m\u001b[1;31m:\u001b[0m invalid syntax\n"
     ]
    }
   ],
   "source": [
    "df.filter(df.GMB call actions_OT >200).show()"
   ]
  },
  {
   "cell_type": "code",
   "execution_count": null,
   "metadata": {},
   "outputs": [],
   "source": []
  },
  {
   "cell_type": "code",
   "execution_count": null,
   "metadata": {},
   "outputs": [],
   "source": []
  }
 ],
 "metadata": {
  "kernelspec": {
   "display_name": "Python 3",
   "language": "python",
   "name": "python3"
  },
  "language_info": {
   "codemirror_mode": {
    "name": "ipython",
    "version": 3
   },
   "file_extension": ".py",
   "mimetype": "text/x-python",
   "name": "python",
   "nbconvert_exporter": "python",
   "pygments_lexer": "ipython3",
   "version": "3.7.3"
  }
 },
 "nbformat": 4,
 "nbformat_minor": 2
}
